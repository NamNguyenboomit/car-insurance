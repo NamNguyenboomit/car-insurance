{
 "cells": [
  {
   "cell_type": "code",
   "execution_count": 1,
   "metadata": {},
   "outputs": [],
   "source": [
    "# import package\n",
    "import numpy as np\n",
    "import pandas as pd\n",
    "\n",
    "import os\n",
    "\n",
    "from sklearn.preprocessing import LabelEncoder\n",
    "\n",
    "import warnings\n",
    "warnings.filterwarnings('ignore')\n",
    "\n",
    "import matplotlib.pyplot as plt\n",
    "import seaborn as sns\n",
    "sns.set(style='darkgrid')\n",
    "%matplotlib inline\n",
    "import plotly.express as px"
   ]
  },
  {
   "cell_type": "code",
   "execution_count": 2,
   "metadata": {},
   "outputs": [],
   "source": [
    "df = pd.read_csv('D:/University/NĂM 3/Kì 6/Basic Data Analysis/Project/Data and analyze/Data/car_insurance_claim.csv')"
   ]
  },
  {
   "cell_type": "code",
   "execution_count": 3,
   "metadata": {},
   "outputs": [],
   "source": [
    "df.drop('BIRTH', axis=1, inplace=True)"
   ]
  },
  {
   "cell_type": "code",
   "execution_count": 4,
   "metadata": {},
   "outputs": [],
   "source": [
    "df['INCOME'] = df['INCOME'].str.replace('$', '').str.replace(',', '').astype(float)\n",
    "df['HOME_VAL'] = df['HOME_VAL'].str.replace('$', '').str.replace(',', '').astype(float)\n",
    "df['OLDCLAIM'] = df['OLDCLAIM'].str.replace('$', '').str.replace(',', '').astype(float)\n",
    "df['CLM_AMT'] = df['CLM_AMT'].str.replace('$', '').str.replace(',', '').astype(float)\n",
    "df['GENDER'] = df['GENDER'].str.replace('z_', '')\n",
    "df['MSTATUS'] = df['MSTATUS'].str.replace('z_', '')\n",
    "df['EDUCATION'] = df['EDUCATION'].str.replace('z_','').str.replace('<','')\n",
    "df['OCCUPATION'] = df['OCCUPATION'].str.replace('z_','')\n",
    "df['BLUEBOOK'] = df['BLUEBOOK'].str.replace('$','').str.replace(',','').astype(int) \n",
    "df['CAR_TYPE'] = df['CAR_TYPE'].str.replace('z_','')\n",
    "df['CAR_TYPE'] = df['CAR_TYPE'].str.replace('z_','')\n",
    "df['URBANICITY'] = df['URBANICITY'].str.replace('Highly Urban/ ','').str.replace('z_Highly Rural/ ','')"
   ]
  },
  {
   "cell_type": "code",
   "execution_count": 5,
   "metadata": {},
   "outputs": [],
   "source": [
    "df['CLM_AMT'].mask(df['CLM_AMT'] >= 1, 1, inplace=True)"
   ]
  },
  {
   "cell_type": "code",
   "execution_count": 6,
   "metadata": {},
   "outputs": [
    {
     "data": {
      "text/plain": [
       "0.0    7556\n",
       "1.0    2746\n",
       "Name: CLM_AMT, dtype: int64"
      ]
     },
     "execution_count": 6,
     "metadata": {},
     "output_type": "execute_result"
    }
   ],
   "source": [
    "df['CLM_AMT'].value_counts()"
   ]
  },
  {
   "cell_type": "code",
   "execution_count": 7,
   "metadata": {},
   "outputs": [
    {
     "name": "stdout",
     "output_type": "stream",
     "text": [
      "Number of rows before drop duplicate: 10302\n",
      "number of rows after drop duplicate: 10302\n"
     ]
    }
   ],
   "source": [
    "subsets = []\n",
    "for i in df.columns:\n",
    "    if i != 'ID':\n",
    "        subsets.append(i)\n",
    "\n",
    "print('Number of rows before drop duplicate: %s' %len(df))\n",
    "df.drop_duplicates(subset=subsets, keep=False)\n",
    "print('number of rows after drop duplicate: %s' %len(df))"
   ]
  },
  {
   "cell_type": "code",
   "execution_count": 8,
   "metadata": {},
   "outputs": [],
   "source": [
    "# Check null\n",
    "def missing_value_table(df):\n",
    "\n",
    "    # create missing column\n",
    "    missing_value = df.isna().sum()\n",
    "\n",
    "    # create percentage missing column\n",
    "    percentage_missing = 100 * df.isna().sum() / len(df)\n",
    "\n",
    "    # concat 2 columns\n",
    "    table_1 = pd.concat([missing_value,percentage_missing], axis=1)\n",
    "\n",
    "    # rename 2 columns\n",
    "    table_2 = table_1.rename(columns={0:'Missing Value', 1:'Percentage of Missing'})\n",
    "\n",
    "    # sort the missing value by descending\n",
    "    table_3 = table_2[table_2.iloc[:,1] != 0].sort_values('Percentage of Missing', ascending=False).round(1)\n",
    "\n",
    "    # Print some sentence\n",
    "    print('These dataframe has', str(df.shape[1]), 'columns')\n",
    "    print('These dataframe has', str(table_3.shape[0]), 'columns which has null values')\n",
    "\n",
    "    return(table_3)"
   ]
  },
  {
   "cell_type": "code",
   "execution_count": 9,
   "metadata": {},
   "outputs": [],
   "source": [
    "df['OCCUPATION'].fillna(df['OCCUPATION'].mode()[0], inplace=True)"
   ]
  },
  {
   "cell_type": "code",
   "execution_count": 10,
   "metadata": {},
   "outputs": [],
   "source": [
    "df['CAR_AGE'].fillna(df['CAR_AGE'].median(), inplace=True)\n",
    "df['HOME_VAL'].fillna(df['HOME_VAL'].median(), inplace=True)\n",
    "df['INCOME'].fillna(df['INCOME'].median(), inplace=True)\n",
    "df['YOJ'].fillna(df['YOJ'].median(), inplace=True)\n",
    "df['AGE'].fillna(df['AGE'].median(), inplace=True)"
   ]
  },
  {
   "cell_type": "code",
   "execution_count": 11,
   "metadata": {},
   "outputs": [
    {
     "name": "stdout",
     "output_type": "stream",
     "text": [
      "Number of rows before filtering outliers: 10302\n",
      "Number of rows after filtering outliers: 10302\n"
     ]
    }
   ],
   "source": [
    "# Delete instances (rows) which are outliers\n",
    "from scipy import stats\n",
    "print(\"Number of rows before filtering outliers:\", len(df))\n",
    "\n",
    "filtered_entries = np.array ([True] * len(df)) # Nhân giá trị True với số lần = độ dài df2 và để trong array\n",
    "\n",
    "for col in ['AGE','INCOME','HOME_VAL','BLUEBOOK','OLDCLAIM','CLM_AMT']:\n",
    "  zscore = abs(stats.zscore(df[col]))\n",
    "  filtered_entries = (zscore < 3)\n",
    "\n",
    "df2 = df[filtered_entries].copy()\n",
    "print(\"Number of rows after filtering outliers:\",len(df2))"
   ]
  },
  {
   "cell_type": "code",
   "execution_count": 12,
   "metadata": {},
   "outputs": [
    {
     "name": "stdout",
     "output_type": "stream",
     "text": [
      "Before drop: 10302\n",
      "After drop: 10302\n"
     ]
    }
   ],
   "source": [
    "print('Before drop: %s' %df2.shape[0])\n",
    "df2[subsets].drop_duplicates()\n",
    "print('After drop: %s' %df2.shape[0])"
   ]
  },
  {
   "cell_type": "code",
   "execution_count": 13,
   "metadata": {},
   "outputs": [],
   "source": [
    "df2['PARENT1'] = df2['PARENT1'].map({'No':0, 'Yes':1}).astype(int)\n",
    "df2['MSTATUS'] = df2['MSTATUS'].map({'No':0, 'Yes':1}).astype(int)\n",
    "df2['GENDER'] = df2['GENDER'].map({'M':1, 'F':0}).astype(int)\n",
    "df2['CAR_USE'] = df2['CAR_USE'].map({'Private':1, 'Commercial':0}).astype(int)\n",
    "df2['RED_CAR'] = df2['RED_CAR'].map({'no':0, 'yes':1}).astype(int)\n",
    "df2['REVOKED'] = df2['REVOKED'].map({'No':0, 'Yes':1}).astype(int)\n",
    "df2['URBANICITY'] = df2['URBANICITY'].map({'Urban':1, 'Rural':0}).astype(int)"
   ]
  },
  {
   "cell_type": "code",
   "execution_count": 14,
   "metadata": {},
   "outputs": [],
   "source": [
    "# Using one-hot encoding to change the value of 3 columns has 3 or more unique values\n",
    "for i in ['EDUCATION', 'CAR_TYPE','OCCUPATION']:\n",
    "    onehots = pd.get_dummies(df2[i],prefix=i)\n",
    "    df2=df2.join(onehots)"
   ]
  },
  {
   "cell_type": "code",
   "execution_count": 15,
   "metadata": {},
   "outputs": [],
   "source": [
    "df2 = df2.drop(columns=['EDUCATION', 'CAR_TYPE','OCCUPATION'])"
   ]
  },
  {
   "cell_type": "code",
   "execution_count": 16,
   "metadata": {},
   "outputs": [
    {
     "data": {
      "text/plain": [
       "\"\\ndf2['AGE'] = df2['AGE'].astype(int)\\ndf2['YOJ'] = df2['YOJ'].astype(int)\\ndf2['INCOME'] = df2['INCOME'].astype(int)\\ndf2['HOME_VAL'] = df2['HOME_VAL'].astype(int)\\ndf2['OLDCLAIM'] = df2['OLDCLAIM'].astype(int)\\ndf2['CLM_AMT'] = df2['CLM_AMT'].astype(int)\\ndf2['CAR_AGE'] = df2['CAR_AGE'].astype(int)\\n\""
      ]
     },
     "execution_count": 16,
     "metadata": {},
     "output_type": "execute_result"
    }
   ],
   "source": [
    "'''\n",
    "df2['AGE'] = df2['AGE'].astype(int)\n",
    "df2['YOJ'] = df2['YOJ'].astype(int)\n",
    "df2['INCOME'] = df2['INCOME'].astype(int)\n",
    "df2['HOME_VAL'] = df2['HOME_VAL'].astype(int)\n",
    "df2['OLDCLAIM'] = df2['OLDCLAIM'].astype(int)\n",
    "df2['CLM_AMT'] = df2['CLM_AMT'].astype(int)\n",
    "df2['CAR_AGE'] = df2['CAR_AGE'].astype(int)\n",
    "'''"
   ]
  },
  {
   "cell_type": "code",
   "execution_count": 17,
   "metadata": {},
   "outputs": [
    {
     "name": "stdout",
     "output_type": "stream",
     "text": [
      "(10302, 35)\n",
      "(10302,)\n"
     ]
    }
   ],
   "source": [
    "x = df2[[col for col in df2.columns if col not in ['CLM_AMT','CLAIM_FLAG','ID', 'TRAVTIME', 'YOJ', 'TIF']]]\n",
    "y = df2['CLAIM_FLAG']\n",
    "print(x.shape)\n",
    "print(y.shape)"
   ]
  },
  {
   "cell_type": "code",
   "execution_count": 18,
   "metadata": {},
   "outputs": [
    {
     "data": {
      "text/html": [
       "<div>\n",
       "<style scoped>\n",
       "    .dataframe tbody tr th:only-of-type {\n",
       "        vertical-align: middle;\n",
       "    }\n",
       "\n",
       "    .dataframe tbody tr th {\n",
       "        vertical-align: top;\n",
       "    }\n",
       "\n",
       "    .dataframe thead th {\n",
       "        text-align: right;\n",
       "    }\n",
       "</style>\n",
       "<table border=\"1\" class=\"dataframe\">\n",
       "  <thead>\n",
       "    <tr style=\"text-align: right;\">\n",
       "      <th></th>\n",
       "      <th>KIDSDRIV</th>\n",
       "      <th>AGE</th>\n",
       "      <th>HOMEKIDS</th>\n",
       "      <th>INCOME</th>\n",
       "      <th>PARENT1</th>\n",
       "      <th>HOME_VAL</th>\n",
       "      <th>MSTATUS</th>\n",
       "      <th>GENDER</th>\n",
       "      <th>CAR_USE</th>\n",
       "      <th>BLUEBOOK</th>\n",
       "      <th>...</th>\n",
       "      <th>CAR_TYPE_Sports Car</th>\n",
       "      <th>CAR_TYPE_Van</th>\n",
       "      <th>OCCUPATION_Blue Collar</th>\n",
       "      <th>OCCUPATION_Clerical</th>\n",
       "      <th>OCCUPATION_Doctor</th>\n",
       "      <th>OCCUPATION_Home Maker</th>\n",
       "      <th>OCCUPATION_Lawyer</th>\n",
       "      <th>OCCUPATION_Manager</th>\n",
       "      <th>OCCUPATION_Professional</th>\n",
       "      <th>OCCUPATION_Student</th>\n",
       "    </tr>\n",
       "  </thead>\n",
       "  <tbody>\n",
       "    <tr>\n",
       "      <th>0</th>\n",
       "      <td>0</td>\n",
       "      <td>60.0</td>\n",
       "      <td>0</td>\n",
       "      <td>67349.0</td>\n",
       "      <td>0</td>\n",
       "      <td>0.0</td>\n",
       "      <td>0</td>\n",
       "      <td>1</td>\n",
       "      <td>1</td>\n",
       "      <td>14230</td>\n",
       "      <td>...</td>\n",
       "      <td>0</td>\n",
       "      <td>0</td>\n",
       "      <td>0</td>\n",
       "      <td>0</td>\n",
       "      <td>0</td>\n",
       "      <td>0</td>\n",
       "      <td>0</td>\n",
       "      <td>0</td>\n",
       "      <td>1</td>\n",
       "      <td>0</td>\n",
       "    </tr>\n",
       "    <tr>\n",
       "      <th>1</th>\n",
       "      <td>0</td>\n",
       "      <td>43.0</td>\n",
       "      <td>0</td>\n",
       "      <td>91449.0</td>\n",
       "      <td>0</td>\n",
       "      <td>257252.0</td>\n",
       "      <td>0</td>\n",
       "      <td>1</td>\n",
       "      <td>0</td>\n",
       "      <td>14940</td>\n",
       "      <td>...</td>\n",
       "      <td>0</td>\n",
       "      <td>0</td>\n",
       "      <td>1</td>\n",
       "      <td>0</td>\n",
       "      <td>0</td>\n",
       "      <td>0</td>\n",
       "      <td>0</td>\n",
       "      <td>0</td>\n",
       "      <td>0</td>\n",
       "      <td>0</td>\n",
       "    </tr>\n",
       "    <tr>\n",
       "      <th>2</th>\n",
       "      <td>0</td>\n",
       "      <td>48.0</td>\n",
       "      <td>0</td>\n",
       "      <td>52881.0</td>\n",
       "      <td>0</td>\n",
       "      <td>0.0</td>\n",
       "      <td>0</td>\n",
       "      <td>1</td>\n",
       "      <td>1</td>\n",
       "      <td>21970</td>\n",
       "      <td>...</td>\n",
       "      <td>0</td>\n",
       "      <td>1</td>\n",
       "      <td>0</td>\n",
       "      <td>0</td>\n",
       "      <td>0</td>\n",
       "      <td>0</td>\n",
       "      <td>0</td>\n",
       "      <td>1</td>\n",
       "      <td>0</td>\n",
       "      <td>0</td>\n",
       "    </tr>\n",
       "    <tr>\n",
       "      <th>3</th>\n",
       "      <td>0</td>\n",
       "      <td>35.0</td>\n",
       "      <td>1</td>\n",
       "      <td>16039.0</td>\n",
       "      <td>0</td>\n",
       "      <td>124191.0</td>\n",
       "      <td>1</td>\n",
       "      <td>0</td>\n",
       "      <td>1</td>\n",
       "      <td>4010</td>\n",
       "      <td>...</td>\n",
       "      <td>0</td>\n",
       "      <td>0</td>\n",
       "      <td>0</td>\n",
       "      <td>1</td>\n",
       "      <td>0</td>\n",
       "      <td>0</td>\n",
       "      <td>0</td>\n",
       "      <td>0</td>\n",
       "      <td>0</td>\n",
       "      <td>0</td>\n",
       "    </tr>\n",
       "    <tr>\n",
       "      <th>4</th>\n",
       "      <td>0</td>\n",
       "      <td>51.0</td>\n",
       "      <td>0</td>\n",
       "      <td>53529.0</td>\n",
       "      <td>0</td>\n",
       "      <td>306251.0</td>\n",
       "      <td>1</td>\n",
       "      <td>1</td>\n",
       "      <td>1</td>\n",
       "      <td>15440</td>\n",
       "      <td>...</td>\n",
       "      <td>0</td>\n",
       "      <td>0</td>\n",
       "      <td>1</td>\n",
       "      <td>0</td>\n",
       "      <td>0</td>\n",
       "      <td>0</td>\n",
       "      <td>0</td>\n",
       "      <td>0</td>\n",
       "      <td>0</td>\n",
       "      <td>0</td>\n",
       "    </tr>\n",
       "    <tr>\n",
       "      <th>...</th>\n",
       "      <td>...</td>\n",
       "      <td>...</td>\n",
       "      <td>...</td>\n",
       "      <td>...</td>\n",
       "      <td>...</td>\n",
       "      <td>...</td>\n",
       "      <td>...</td>\n",
       "      <td>...</td>\n",
       "      <td>...</td>\n",
       "      <td>...</td>\n",
       "      <td>...</td>\n",
       "      <td>...</td>\n",
       "      <td>...</td>\n",
       "      <td>...</td>\n",
       "      <td>...</td>\n",
       "      <td>...</td>\n",
       "      <td>...</td>\n",
       "      <td>...</td>\n",
       "      <td>...</td>\n",
       "      <td>...</td>\n",
       "      <td>...</td>\n",
       "    </tr>\n",
       "    <tr>\n",
       "      <th>10297</th>\n",
       "      <td>1</td>\n",
       "      <td>45.0</td>\n",
       "      <td>2</td>\n",
       "      <td>164669.0</td>\n",
       "      <td>0</td>\n",
       "      <td>386273.0</td>\n",
       "      <td>1</td>\n",
       "      <td>1</td>\n",
       "      <td>1</td>\n",
       "      <td>13270</td>\n",
       "      <td>...</td>\n",
       "      <td>0</td>\n",
       "      <td>0</td>\n",
       "      <td>0</td>\n",
       "      <td>0</td>\n",
       "      <td>0</td>\n",
       "      <td>0</td>\n",
       "      <td>0</td>\n",
       "      <td>1</td>\n",
       "      <td>0</td>\n",
       "      <td>0</td>\n",
       "    </tr>\n",
       "    <tr>\n",
       "      <th>10298</th>\n",
       "      <td>0</td>\n",
       "      <td>46.0</td>\n",
       "      <td>0</td>\n",
       "      <td>107204.0</td>\n",
       "      <td>0</td>\n",
       "      <td>332591.0</td>\n",
       "      <td>1</td>\n",
       "      <td>1</td>\n",
       "      <td>0</td>\n",
       "      <td>24490</td>\n",
       "      <td>...</td>\n",
       "      <td>0</td>\n",
       "      <td>0</td>\n",
       "      <td>1</td>\n",
       "      <td>0</td>\n",
       "      <td>0</td>\n",
       "      <td>0</td>\n",
       "      <td>0</td>\n",
       "      <td>0</td>\n",
       "      <td>0</td>\n",
       "      <td>0</td>\n",
       "    </tr>\n",
       "    <tr>\n",
       "      <th>10299</th>\n",
       "      <td>0</td>\n",
       "      <td>48.0</td>\n",
       "      <td>0</td>\n",
       "      <td>39837.0</td>\n",
       "      <td>0</td>\n",
       "      <td>170611.0</td>\n",
       "      <td>1</td>\n",
       "      <td>0</td>\n",
       "      <td>1</td>\n",
       "      <td>13820</td>\n",
       "      <td>...</td>\n",
       "      <td>0</td>\n",
       "      <td>0</td>\n",
       "      <td>1</td>\n",
       "      <td>0</td>\n",
       "      <td>0</td>\n",
       "      <td>0</td>\n",
       "      <td>0</td>\n",
       "      <td>0</td>\n",
       "      <td>0</td>\n",
       "      <td>0</td>\n",
       "    </tr>\n",
       "    <tr>\n",
       "      <th>10300</th>\n",
       "      <td>0</td>\n",
       "      <td>50.0</td>\n",
       "      <td>0</td>\n",
       "      <td>43445.0</td>\n",
       "      <td>0</td>\n",
       "      <td>149248.0</td>\n",
       "      <td>1</td>\n",
       "      <td>0</td>\n",
       "      <td>1</td>\n",
       "      <td>22550</td>\n",
       "      <td>...</td>\n",
       "      <td>0</td>\n",
       "      <td>0</td>\n",
       "      <td>0</td>\n",
       "      <td>0</td>\n",
       "      <td>0</td>\n",
       "      <td>1</td>\n",
       "      <td>0</td>\n",
       "      <td>0</td>\n",
       "      <td>0</td>\n",
       "      <td>0</td>\n",
       "    </tr>\n",
       "    <tr>\n",
       "      <th>10301</th>\n",
       "      <td>0</td>\n",
       "      <td>52.0</td>\n",
       "      <td>0</td>\n",
       "      <td>53235.0</td>\n",
       "      <td>0</td>\n",
       "      <td>197017.0</td>\n",
       "      <td>1</td>\n",
       "      <td>0</td>\n",
       "      <td>1</td>\n",
       "      <td>19400</td>\n",
       "      <td>...</td>\n",
       "      <td>0</td>\n",
       "      <td>0</td>\n",
       "      <td>0</td>\n",
       "      <td>1</td>\n",
       "      <td>0</td>\n",
       "      <td>0</td>\n",
       "      <td>0</td>\n",
       "      <td>0</td>\n",
       "      <td>0</td>\n",
       "      <td>0</td>\n",
       "    </tr>\n",
       "  </tbody>\n",
       "</table>\n",
       "<p>10302 rows × 35 columns</p>\n",
       "</div>"
      ],
      "text/plain": [
       "       KIDSDRIV   AGE  HOMEKIDS    INCOME  PARENT1  HOME_VAL  MSTATUS  GENDER  \\\n",
       "0             0  60.0         0   67349.0        0       0.0        0       1   \n",
       "1             0  43.0         0   91449.0        0  257252.0        0       1   \n",
       "2             0  48.0         0   52881.0        0       0.0        0       1   \n",
       "3             0  35.0         1   16039.0        0  124191.0        1       0   \n",
       "4             0  51.0         0   53529.0        0  306251.0        1       1   \n",
       "...         ...   ...       ...       ...      ...       ...      ...     ...   \n",
       "10297         1  45.0         2  164669.0        0  386273.0        1       1   \n",
       "10298         0  46.0         0  107204.0        0  332591.0        1       1   \n",
       "10299         0  48.0         0   39837.0        0  170611.0        1       0   \n",
       "10300         0  50.0         0   43445.0        0  149248.0        1       0   \n",
       "10301         0  52.0         0   53235.0        0  197017.0        1       0   \n",
       "\n",
       "       CAR_USE  BLUEBOOK  ...  CAR_TYPE_Sports Car  CAR_TYPE_Van  \\\n",
       "0            1     14230  ...                    0             0   \n",
       "1            0     14940  ...                    0             0   \n",
       "2            1     21970  ...                    0             1   \n",
       "3            1      4010  ...                    0             0   \n",
       "4            1     15440  ...                    0             0   \n",
       "...        ...       ...  ...                  ...           ...   \n",
       "10297        1     13270  ...                    0             0   \n",
       "10298        0     24490  ...                    0             0   \n",
       "10299        1     13820  ...                    0             0   \n",
       "10300        1     22550  ...                    0             0   \n",
       "10301        1     19400  ...                    0             0   \n",
       "\n",
       "       OCCUPATION_Blue Collar  OCCUPATION_Clerical  OCCUPATION_Doctor  \\\n",
       "0                           0                    0                  0   \n",
       "1                           1                    0                  0   \n",
       "2                           0                    0                  0   \n",
       "3                           0                    1                  0   \n",
       "4                           1                    0                  0   \n",
       "...                       ...                  ...                ...   \n",
       "10297                       0                    0                  0   \n",
       "10298                       1                    0                  0   \n",
       "10299                       1                    0                  0   \n",
       "10300                       0                    0                  0   \n",
       "10301                       0                    1                  0   \n",
       "\n",
       "       OCCUPATION_Home Maker  OCCUPATION_Lawyer  OCCUPATION_Manager  \\\n",
       "0                          0                  0                   0   \n",
       "1                          0                  0                   0   \n",
       "2                          0                  0                   1   \n",
       "3                          0                  0                   0   \n",
       "4                          0                  0                   0   \n",
       "...                      ...                ...                 ...   \n",
       "10297                      0                  0                   1   \n",
       "10298                      0                  0                   0   \n",
       "10299                      0                  0                   0   \n",
       "10300                      1                  0                   0   \n",
       "10301                      0                  0                   0   \n",
       "\n",
       "       OCCUPATION_Professional  OCCUPATION_Student  \n",
       "0                            1                   0  \n",
       "1                            0                   0  \n",
       "2                            0                   0  \n",
       "3                            0                   0  \n",
       "4                            0                   0  \n",
       "...                        ...                 ...  \n",
       "10297                        0                   0  \n",
       "10298                        0                   0  \n",
       "10299                        0                   0  \n",
       "10300                        0                   0  \n",
       "10301                        0                   0  \n",
       "\n",
       "[10302 rows x 35 columns]"
      ]
     },
     "execution_count": 18,
     "metadata": {},
     "output_type": "execute_result"
    }
   ],
   "source": [
    "x\n",
    "# missing_value_table(x) - no null"
   ]
  },
  {
   "cell_type": "code",
   "execution_count": 19,
   "metadata": {},
   "outputs": [
    {
     "data": {
      "text/plain": [
       "0        0\n",
       "1        0\n",
       "2        0\n",
       "3        0\n",
       "4        0\n",
       "        ..\n",
       "10297    0\n",
       "10298    0\n",
       "10299    0\n",
       "10300    0\n",
       "10301    0\n",
       "Name: CLAIM_FLAG, Length: 10302, dtype: int64"
      ]
     },
     "execution_count": 19,
     "metadata": {},
     "output_type": "execute_result"
    }
   ],
   "source": [
    "y"
   ]
  },
  {
   "cell_type": "code",
   "execution_count": 20,
   "metadata": {},
   "outputs": [],
   "source": [
    "from sklearn.model_selection import train_test_split\n",
    "x_train, x_test, y_train, y_test = train_test_split(x, y, test_size=0.3, random_state=11)"
   ]
  },
  {
   "cell_type": "code",
   "execution_count": 21,
   "metadata": {},
   "outputs": [
    {
     "name": "stdout",
     "output_type": "stream",
     "text": [
      "(7211, 35)\n",
      "(3091, 35)\n",
      "(7211,)\n",
      "(3091,)\n"
     ]
    },
    {
     "data": {
      "text/plain": [
       "0"
      ]
     },
     "execution_count": 21,
     "metadata": {},
     "output_type": "execute_result"
    }
   ],
   "source": [
    "print(x_train.shape)\n",
    "print(x_test.shape)\n",
    "print(y_train.shape)\n",
    "print(y_test.shape)\n",
    "\n",
    "y_test.isna().sum()"
   ]
  },
  {
   "cell_type": "code",
   "execution_count": 22,
   "metadata": {},
   "outputs": [
    {
     "name": "stdout",
     "output_type": "stream",
     "text": [
      "<class 'pandas.core.frame.DataFrame'>\n",
      "Int64Index: 7211 entries, 3194 to 10137\n",
      "Data columns (total 35 columns):\n",
      " #   Column                   Non-Null Count  Dtype  \n",
      "---  ------                   --------------  -----  \n",
      " 0   KIDSDRIV                 7211 non-null   int64  \n",
      " 1   AGE                      7211 non-null   float64\n",
      " 2   HOMEKIDS                 7211 non-null   int64  \n",
      " 3   INCOME                   7211 non-null   float64\n",
      " 4   PARENT1                  7211 non-null   int32  \n",
      " 5   HOME_VAL                 7211 non-null   float64\n",
      " 6   MSTATUS                  7211 non-null   int32  \n",
      " 7   GENDER                   7211 non-null   int32  \n",
      " 8   CAR_USE                  7211 non-null   int32  \n",
      " 9   BLUEBOOK                 7211 non-null   int32  \n",
      " 10  RED_CAR                  7211 non-null   int32  \n",
      " 11  OLDCLAIM                 7211 non-null   float64\n",
      " 12  CLM_FREQ                 7211 non-null   int64  \n",
      " 13  REVOKED                  7211 non-null   int32  \n",
      " 14  MVR_PTS                  7211 non-null   int64  \n",
      " 15  CAR_AGE                  7211 non-null   float64\n",
      " 16  URBANICITY               7211 non-null   int32  \n",
      " 17  EDUCATION_Bachelors      7211 non-null   uint8  \n",
      " 18  EDUCATION_High School    7211 non-null   uint8  \n",
      " 19  EDUCATION_Masters        7211 non-null   uint8  \n",
      " 20  EDUCATION_PhD            7211 non-null   uint8  \n",
      " 21  CAR_TYPE_Minivan         7211 non-null   uint8  \n",
      " 22  CAR_TYPE_Panel Truck     7211 non-null   uint8  \n",
      " 23  CAR_TYPE_Pickup          7211 non-null   uint8  \n",
      " 24  CAR_TYPE_SUV             7211 non-null   uint8  \n",
      " 25  CAR_TYPE_Sports Car      7211 non-null   uint8  \n",
      " 26  CAR_TYPE_Van             7211 non-null   uint8  \n",
      " 27  OCCUPATION_Blue Collar   7211 non-null   uint8  \n",
      " 28  OCCUPATION_Clerical      7211 non-null   uint8  \n",
      " 29  OCCUPATION_Doctor        7211 non-null   uint8  \n",
      " 30  OCCUPATION_Home Maker    7211 non-null   uint8  \n",
      " 31  OCCUPATION_Lawyer        7211 non-null   uint8  \n",
      " 32  OCCUPATION_Manager       7211 non-null   uint8  \n",
      " 33  OCCUPATION_Professional  7211 non-null   uint8  \n",
      " 34  OCCUPATION_Student       7211 non-null   uint8  \n",
      "dtypes: float64(5), int32(8), int64(4), uint8(18)\n",
      "memory usage: 915.5 KB\n"
     ]
    }
   ],
   "source": [
    "x_train.info()"
   ]
  },
  {
   "cell_type": "code",
   "execution_count": 23,
   "metadata": {},
   "outputs": [],
   "source": [
    "from imblearn import over_sampling\n",
    "\n",
    "x_train_smt, y_train_smt = over_sampling.SMOTE(random_state=3).fit_resample(x_train, y_train)"
   ]
  },
  {
   "cell_type": "code",
   "execution_count": 24,
   "metadata": {},
   "outputs": [
    {
     "name": "stdout",
     "output_type": "stream",
     "text": [
      "Target before oversampling:\n",
      "0    5326\n",
      "1    1885\n",
      "Name: CLAIM_FLAG, dtype: int64\n"
     ]
    }
   ],
   "source": [
    "# Before Oversampling\n",
    "print('Target before oversampling:')\n",
    "print(pd.Series(y_train).value_counts())"
   ]
  },
  {
   "cell_type": "code",
   "execution_count": 25,
   "metadata": {},
   "outputs": [
    {
     "name": "stdout",
     "output_type": "stream",
     "text": [
      "Target after oversampling:\n",
      "1    5326\n",
      "0    5326\n",
      "Name: CLAIM_FLAG, dtype: int64\n"
     ]
    }
   ],
   "source": [
    "# Setelah Oversampling\n",
    "print('Target after oversampling:')\n",
    "print(pd.Series(y_train_smt).value_counts())"
   ]
  },
  {
   "cell_type": "code",
   "execution_count": 26,
   "metadata": {},
   "outputs": [
    {
     "name": "stdout",
     "output_type": "stream",
     "text": [
      "These dataframe has 35 columns\n",
      "These dataframe has 0 columns which has null values\n"
     ]
    },
    {
     "data": {
      "text/html": [
       "<div>\n",
       "<style scoped>\n",
       "    .dataframe tbody tr th:only-of-type {\n",
       "        vertical-align: middle;\n",
       "    }\n",
       "\n",
       "    .dataframe tbody tr th {\n",
       "        vertical-align: top;\n",
       "    }\n",
       "\n",
       "    .dataframe thead th {\n",
       "        text-align: right;\n",
       "    }\n",
       "</style>\n",
       "<table border=\"1\" class=\"dataframe\">\n",
       "  <thead>\n",
       "    <tr style=\"text-align: right;\">\n",
       "      <th></th>\n",
       "      <th>Missing Value</th>\n",
       "      <th>Percentage of Missing</th>\n",
       "    </tr>\n",
       "  </thead>\n",
       "  <tbody>\n",
       "  </tbody>\n",
       "</table>\n",
       "</div>"
      ],
      "text/plain": [
       "Empty DataFrame\n",
       "Columns: [Missing Value, Percentage of Missing]\n",
       "Index: []"
      ]
     },
     "execution_count": 26,
     "metadata": {},
     "output_type": "execute_result"
    }
   ],
   "source": [
    "missing_value_table(x_train_smt)"
   ]
  },
  {
   "cell_type": "code",
   "execution_count": 27,
   "metadata": {},
   "outputs": [
    {
     "data": {
      "text/plain": [
       "0"
      ]
     },
     "execution_count": 27,
     "metadata": {},
     "output_type": "execute_result"
    }
   ],
   "source": [
    "y_train_smt.isna().sum()"
   ]
  },
  {
   "cell_type": "code",
   "execution_count": 28,
   "metadata": {},
   "outputs": [
    {
     "name": "stdout",
     "output_type": "stream",
     "text": [
      "<class 'pandas.core.frame.DataFrame'>\n",
      "RangeIndex: 10652 entries, 0 to 10651\n",
      "Data columns (total 35 columns):\n",
      " #   Column                   Non-Null Count  Dtype  \n",
      "---  ------                   --------------  -----  \n",
      " 0   KIDSDRIV                 10652 non-null  int64  \n",
      " 1   AGE                      10652 non-null  float64\n",
      " 2   HOMEKIDS                 10652 non-null  int64  \n",
      " 3   INCOME                   10652 non-null  float64\n",
      " 4   PARENT1                  10652 non-null  int32  \n",
      " 5   HOME_VAL                 10652 non-null  float64\n",
      " 6   MSTATUS                  10652 non-null  int32  \n",
      " 7   GENDER                   10652 non-null  int32  \n",
      " 8   CAR_USE                  10652 non-null  int32  \n",
      " 9   BLUEBOOK                 10652 non-null  int32  \n",
      " 10  RED_CAR                  10652 non-null  int32  \n",
      " 11  OLDCLAIM                 10652 non-null  float64\n",
      " 12  CLM_FREQ                 10652 non-null  int64  \n",
      " 13  REVOKED                  10652 non-null  int32  \n",
      " 14  MVR_PTS                  10652 non-null  int64  \n",
      " 15  CAR_AGE                  10652 non-null  float64\n",
      " 16  URBANICITY               10652 non-null  int32  \n",
      " 17  EDUCATION_Bachelors      10652 non-null  uint8  \n",
      " 18  EDUCATION_High School    10652 non-null  uint8  \n",
      " 19  EDUCATION_Masters        10652 non-null  uint8  \n",
      " 20  EDUCATION_PhD            10652 non-null  uint8  \n",
      " 21  CAR_TYPE_Minivan         10652 non-null  uint8  \n",
      " 22  CAR_TYPE_Panel Truck     10652 non-null  uint8  \n",
      " 23  CAR_TYPE_Pickup          10652 non-null  uint8  \n",
      " 24  CAR_TYPE_SUV             10652 non-null  uint8  \n",
      " 25  CAR_TYPE_Sports Car      10652 non-null  uint8  \n",
      " 26  CAR_TYPE_Van             10652 non-null  uint8  \n",
      " 27  OCCUPATION_Blue Collar   10652 non-null  uint8  \n",
      " 28  OCCUPATION_Clerical      10652 non-null  uint8  \n",
      " 29  OCCUPATION_Doctor        10652 non-null  uint8  \n",
      " 30  OCCUPATION_Home Maker    10652 non-null  uint8  \n",
      " 31  OCCUPATION_Lawyer        10652 non-null  uint8  \n",
      " 32  OCCUPATION_Manager       10652 non-null  uint8  \n",
      " 33  OCCUPATION_Professional  10652 non-null  uint8  \n",
      " 34  OCCUPATION_Student       10652 non-null  uint8  \n",
      "dtypes: float64(5), int32(8), int64(4), uint8(18)\n",
      "memory usage: 1.2 MB\n"
     ]
    }
   ],
   "source": [
    "x_train_smt.info()"
   ]
  },
  {
   "cell_type": "code",
   "execution_count": 29,
   "metadata": {},
   "outputs": [],
   "source": [
    "# Model Evaluation Classification test\n",
    "from sklearn.linear_model import LogisticRegression \n",
    "from sklearn import metrics\n",
    "from sklearn.metrics import accuracy_score, precision_score, recall_score, f1_score\n",
    "from sklearn.model_selection import cross_validate\n",
    "def eval_classification(model):\n",
    "    y_pred = model.predict(x_test)\n",
    "    y_pred_train = model.predict(x_train)\n",
    "    y_pred_proba = model.predict_proba(x_test)\n",
    "    y_pred_proba_train = model.predict_proba(x_train)\n",
    "    \n",
    "    print(\"Accuracy: \", round(accuracy_score(y_test, y_pred),3))\n",
    "    print(\"Precision:\",round(precision_score(y_test, y_pred),3))\n",
    "    print(\"Recall: \",round(recall_score(y_test, y_pred),3))\n",
    "    print(\"F1-Score: \",round(f1_score(y_test, y_pred),3))  \n",
    "    score = cross_validate(model, x, y, cv=20, scoring='roc_auc', return_train_score=True)"
   ]
  },
  {
   "cell_type": "code",
   "execution_count": 30,
   "metadata": {},
   "outputs": [
    {
     "data": {
      "text/plain": [
       "<matplotlib.legend.Legend at 0x28295b12250>"
      ]
     },
     "execution_count": 30,
     "metadata": {},
     "output_type": "execute_result"
    },
    {
     "data": {
      "image/png": "[encoded data removed]",
      "text/plain": [
       "<Figure size 432x288 with 1 Axes>"
      ]
     },
     "metadata": {
      "needs_background": "light"
     },
     "output_type": "display_data"
    }
   ],
   "source": [
    "#set up plotting area\n",
    "plt.figure(0).clf()\n",
    "\n",
    "#fit logistic regression model and plot ROC curve\n",
    "model1 = LogisticRegression(random_state=5)\n",
    "model1.fit(x_train, y_train)\n",
    "y_pred = model1.predict_proba(x_test)[:, 1]\n",
    "fpr, tpr, _ = metrics.roc_curve(y_test, y_pred)\n",
    "auc = round(metrics.roc_auc_score(y_test, y_pred), 4)\n",
    "plt.plot(fpr,tpr,label=\"Logistic Regression, AUC=\"+str(auc))\n",
    "\n",
    "# Decision Tree algorithm\n",
    "from sklearn.tree import DecisionTreeClassifier\n",
    "from sklearn import tree\n",
    "model2 = DecisionTreeClassifier(random_state=5)\n",
    "model2.fit(x_train, y_train)\n",
    "y_pred = model2.predict_proba(x_test)[:, 1]\n",
    "fpr, tpr, _ = metrics.roc_curve(y_test, y_pred)\n",
    "auc = round(metrics.roc_auc_score(y_test, y_pred), 4)\n",
    "plt.plot(fpr,tpr,label=\"Decision Tree, AUC=\"+str(auc))\n",
    "\n",
    "#\n",
    "from xgboost import XGBClassifier\n",
    "\n",
    "model3 = XGBClassifier(random_state=5)\n",
    "model3.fit(x_train, y_train)\n",
    "y_pred = model2.predict_proba(x_test)[:, 1]\n",
    "fpr, tpr, _ = metrics.roc_curve(y_test, y_pred)\n",
    "auc = round(metrics.roc_auc_score(y_test, y_pred), 4)\n",
    "plt.plot(fpr,tpr,label=\"XGBoost, AUC=\"+str(auc))\n",
    "\n",
    "plt.legend()"
   ]
  },
  {
   "cell_type": "code",
   "execution_count": 31,
   "metadata": {},
   "outputs": [],
   "source": [
    "\n",
    "#print(y_test.isna().sum())\n",
    "#print(y_pred.isna().sum())"
   ]
  },
  {
   "cell_type": "code",
   "execution_count": null,
   "metadata": {},
   "outputs": [],
   "source": []
  },
  {
   "cell_type": "code",
   "execution_count": 32,
   "metadata": {},
   "outputs": [
    {
     "name": "stdout",
     "output_type": "stream",
     "text": [
      "Accuracy:  0.727\n",
      "Precision: 0.598\n",
      "Recall:  0.06\n",
      "F1-Score:  0.11\n"
     ]
    }
   ],
   "source": [
    "model1 = LogisticRegression(random_state=2)\n",
    "model1.fit(x_train, y_train)\n",
    "eval_classification(model1)"
   ]
  },
  {
   "cell_type": "code",
   "execution_count": null,
   "metadata": {},
   "outputs": [
    {
     "name": "stdout",
     "output_type": "stream",
     "text": [
      "Accuracy:  1.0\n",
      "Precision: 1.0\n",
      "Recall:  1.0\n",
      "F1-Score:  1.0\n"
     ]
    }
   ],
   "source": [
    "# Decision Tree algorithm\n",
    "from sklearn.tree import DecisionTreeClassifier\n",
    "from sklearn import tree\n",
    "model2 = DecisionTreeClassifier(random_state=2)\n",
    "model2.fit(x_train, y_train)\n",
    "eval_classification(model2)"
   ]
  },
  {
   "cell_type": "code",
   "execution_count": null,
   "metadata": {},
   "outputs": [
    {
     "name": "stdout",
     "output_type": "stream",
     "text": [
      "Accuracy:  1.0\n",
      "Precision: 1.0\n",
      "Recall:  1.0\n",
      "F1-Score:  1.0\n"
     ]
    }
   ],
   "source": [
    "from xgboost import XGBClassifier\n",
    "\n",
    "model3 = XGBClassifier(random_state=2)\n",
    "model3.fit(x_train, y_train)\n",
    "eval_classification(model3)"
   ]
  },
  {
   "cell_type": "code",
   "execution_count": null,
   "metadata": {},
   "outputs": [],
   "source": []
  },
  {
   "cell_type": "code",
   "execution_count": null,
   "metadata": {},
   "outputs": [],
   "source": []
  },
  {
   "cell_type": "code",
   "execution_count": null,
   "metadata": {},
   "outputs": [],
   "source": []
  },
  {
   "cell_type": "code",
   "execution_count": null,
   "metadata": {},
   "outputs": [],
   "source": []
  },
  {
   "cell_type": "code",
   "execution_count": null,
   "metadata": {},
   "outputs": [],
   "source": []
  },
  {
   "cell_type": "code",
   "execution_count": null,
   "metadata": {},
   "outputs": [],
   "source": []
  },
  {
   "cell_type": "code",
   "execution_count": null,
   "metadata": {},
   "outputs": [],
   "source": []
  },
  {
   "cell_type": "code",
   "execution_count": null,
   "metadata": {},
   "outputs": [],
   "source": []
  },
  {
   "cell_type": "code",
   "execution_count": null,
   "metadata": {},
   "outputs": [],
   "source": []
  },
  {
   "cell_type": "code",
   "execution_count": null,
   "metadata": {},
   "outputs": [],
   "source": []
  },
  {
   "cell_type": "code",
   "execution_count": null,
   "metadata": {},
   "outputs": [],
   "source": []
  },
  {
   "cell_type": "code",
   "execution_count": null,
   "metadata": {},
   "outputs": [],
   "source": []
  },
  {
   "cell_type": "code",
   "execution_count": null,
   "metadata": {},
   "outputs": [],
   "source": []
  },
  {
   "cell_type": "code",
   "execution_count": null,
   "metadata": {},
   "outputs": [],
   "source": []
  },
  {
   "cell_type": "code",
   "execution_count": null,
   "metadata": {},
   "outputs": [],
   "source": []
  }
 ],
 "metadata": {
  "kernelspec": {
   "display_name": "base",
   "language": "python",
   "name": "python3"
  },
  "language_info": {
   "codemirror_mode": {
    "name": "ipython",
    "version": 3
   },
   "file_extension": ".py",
   "mimetype": "text/x-python",
   "name": "python",
   "nbconvert_exporter": "python",
   "pygments_lexer": "ipython3",
   "version": "3.9.7"
  },
  "orig_nbformat": 4
 },
 "nbformat": 4,
 "nbformat_minor": 2
}
